{
  "nbformat": 4,
  "nbformat_minor": 0,
  "metadata": {
    "colab": {
      "provenance": [],
      "collapsed_sections": [],
      "authorship_tag": "ABX9TyNUJ3q8udfFjnhjGH7mjOsp",
      "include_colab_link": true
    },
    "kernelspec": {
      "name": "python3",
      "display_name": "Python 3"
    },
    "language_info": {
      "name": "python"
    }
  },
  "cells": [
    {
      "cell_type": "markdown",
      "metadata": {
        "id": "view-in-github",
        "colab_type": "text"
      },
      "source": [
        "<a href=\"https://colab.research.google.com/github/tomonari-masada/course2022-stats1/blob/main/MLE_for_binomial_distributions.ipynb\" target=\"_parent\"><img src=\"https://colab.research.google.com/assets/colab-badge.svg\" alt=\"Open In Colab\"/></a>"
      ]
    },
    {
      "cell_type": "markdown",
      "metadata": {
        "id": "IRmiFeKLaJ3R"
      },
      "source": [
        "# 二項分布のパラメータの最尤推定をPyTorchで"
      ]
    },
    {
      "cell_type": "code",
      "metadata": {
        "id": "QBaoLZ3hX0R8"
      },
      "source": [
        "import matplotlib.pyplot as plt\n",
        "import torch"
      ],
      "execution_count": 1,
      "outputs": []
    },
    {
      "cell_type": "markdown",
      "metadata": {
        "id": "lgtdPY9UaSNn"
      },
      "source": [
        "## PyTorchを使った二項分布の作り方"
      ]
    },
    {
      "cell_type": "markdown",
      "metadata": {
        "id": "cY2fo4DHaU7S"
      },
      "source": [
        "* 総試行回数と、パラメータを指定。"
      ]
    },
    {
      "cell_type": "markdown",
      "metadata": {
        "id": "vJxjqlrAamb1"
      },
      "source": [
        "* まずは$\\phi=0$と設定して、100回試行の場合の52という回数の対数尤度を求める。\n",
        " * 尤度はほぼゼロになる。つまり、$\\phi=0$のとき、52回という回数はほぼありえない、ということ。"
      ]
    },
    {
      "cell_type": "code",
      "metadata": {
        "id": "cGmQxWo5X-ku"
      },
      "source": [
        "phi = torch.tensor([0.])\n",
        "m = torch.distributions.binomial.Binomial(100, probs=phi)"
      ],
      "execution_count": 2,
      "outputs": []
    },
    {
      "cell_type": "code",
      "metadata": {
        "id": "Q2YKJEtrYF0T",
        "colab": {
          "base_uri": "https://localhost:8080/"
        },
        "outputId": "5ec6c5d9-f2d4-4c6c-ea58-775f75e3ed66"
      },
      "source": [
        "m.log_prob(torch.tensor([52]))"
      ],
      "execution_count": 3,
      "outputs": [
        {
          "output_type": "execute_result",
          "data": {
            "text/plain": [
              "tensor([-762.2994])"
            ]
          },
          "metadata": {},
          "execution_count": 3
        }
      ]
    },
    {
      "cell_type": "markdown",
      "source": [
        "* 確率の値に直す。"
      ],
      "metadata": {
        "id": "dks6HppKBlBl"
      }
    },
    {
      "cell_type": "code",
      "metadata": {
        "id": "stm_rAtaY_nW",
        "colab": {
          "base_uri": "https://localhost:8080/"
        },
        "outputId": "3d9e24a4-d47f-48f2-872b-c87771bdbd8e"
      },
      "source": [
        "m.log_prob(torch.tensor([52])).exp()"
      ],
      "execution_count": 4,
      "outputs": [
        {
          "output_type": "execute_result",
          "data": {
            "text/plain": [
              "tensor([0.])"
            ]
          },
          "metadata": {},
          "execution_count": 4
        }
      ]
    },
    {
      "cell_type": "markdown",
      "metadata": {
        "id": "bnlDh0eSbHul"
      },
      "source": [
        "* 次に$\\phi=0.5$と設定して、100回試行の場合の52という回数の対数尤度を求める。\n",
        " * 尤度は大きくなる。つまり、$\\phi=0.5$のときなら、52回という回数はかなりありえる、ということ。"
      ]
    },
    {
      "cell_type": "code",
      "metadata": {
        "id": "K0rIwh4vYwsg"
      },
      "source": [
        "phi = torch.tensor([0.5], requires_grad=True)\n",
        "m = torch.distributions.binomial.Binomial(100, probs=phi)"
      ],
      "execution_count": 5,
      "outputs": []
    },
    {
      "cell_type": "code",
      "metadata": {
        "id": "er1DQHCcY5o3",
        "colab": {
          "base_uri": "https://localhost:8080/"
        },
        "outputId": "9c93a23a-fa2a-4d13-b5be-d04cd5564cc6"
      },
      "source": [
        "m.log_prob(torch.tensor([52]))"
      ],
      "execution_count": 6,
      "outputs": [
        {
          "output_type": "execute_result",
          "data": {
            "text/plain": [
              "tensor([-2.6101], grad_fn=<SubBackward0>)"
            ]
          },
          "metadata": {},
          "execution_count": 6
        }
      ]
    },
    {
      "cell_type": "code",
      "metadata": {
        "id": "EI9tW-PPY5-_",
        "colab": {
          "base_uri": "https://localhost:8080/"
        },
        "outputId": "40beb0dd-35ca-43ec-b44c-7910679ac1be"
      },
      "source": [
        "m.log_prob(torch.tensor([52])).exp()"
      ],
      "execution_count": 7,
      "outputs": [
        {
          "output_type": "execute_result",
          "data": {
            "text/plain": [
              "tensor([0.0735], grad_fn=<ExpBackward0>)"
            ]
          },
          "metadata": {},
          "execution_count": 7
        }
      ]
    },
    {
      "cell_type": "code",
      "source": [
        "x = range(101)\n",
        "plt.plot(x, m.log_prob(torch.tensor(x)).exp().detach().numpy(), '.')\n",
        "plt.title(\"N=100, phi_head=0.5\");"
      ],
      "metadata": {
        "colab": {
          "base_uri": "https://localhost:8080/",
          "height": 281
        },
        "id": "9FZgaQytBsdf",
        "outputId": "edf6eb59-de52-4886-bb48-c42312801b8c"
      },
      "execution_count": 8,
      "outputs": [
        {
          "output_type": "display_data",
          "data": {
            "text/plain": [
              "<Figure size 432x288 with 1 Axes>"
            ],
            "image/png": "[encoded data removed]"
          },
          "metadata": {
            "needs_background": "light"
          }
        }
      ]
    },
    {
      "cell_type": "markdown",
      "metadata": {
        "id": "hDiVqzFwbTP-"
      },
      "source": [
        "## 対数尤度最大化をPyTorchで実装"
      ]
    },
    {
      "cell_type": "markdown",
      "metadata": {
        "id": "s1kNy_kubXsi"
      },
      "source": [
        "* 二項分布のパラメータは、微分可能なテンソルとして作っておく。\n",
        "* そして、そのパラメータを更新するoptimizerを作る。"
      ]
    },
    {
      "cell_type": "code",
      "metadata": {
        "id": "6I9KKbMUZDXH"
      },
      "source": [
        "phi = torch.tensor([0.132], requires_grad=True) # 適当に初期化\n",
        "optimizer = torch.optim.SGD([phi], lr=0.001)"
      ],
      "execution_count": 9,
      "outputs": []
    },
    {
      "cell_type": "markdown",
      "metadata": {
        "id": "H4vVqHMfbfwz"
      },
      "source": [
        "* negative log likelihoodを最小化する。\n",
        " * PyTorchでは最小化の計算しかできないので、最大化したいときは、マイナスを付けたものを最小化する。"
      ]
    },
    {
      "cell_type": "code",
      "metadata": {
        "id": "wXEh_0bVZVLW",
        "colab": {
          "base_uri": "https://localhost:8080/"
        },
        "outputId": "9930794f-4d60-4126-d0ab-b30186284792"
      },
      "source": [
        "for i in range(30):\n",
        "  optimizer.zero_grad()\n",
        "  m = torch.distributions.binomial.Binomial(100, probs=phi)\n",
        "  loss = - m.log_prob(torch.tensor([52]))\n",
        "  loss.backward()\n",
        "  optimizer.step()\n",
        "  print(f\"{i+1} | {phi.item():.4f}\")"
      ],
      "execution_count": 10,
      "outputs": [
        {
          "output_type": "stream",
          "name": "stdout",
          "text": [
            "1 | 0.4706\n",
            "2 | 0.4905\n",
            "3 | 0.5023\n",
            "4 | 0.5094\n",
            "5 | 0.5136\n",
            "6 | 0.5162\n",
            "7 | 0.5177\n",
            "8 | 0.5186\n",
            "9 | 0.5192\n",
            "10 | 0.5195\n",
            "11 | 0.5197\n",
            "12 | 0.5198\n",
            "13 | 0.5199\n",
            "14 | 0.5199\n",
            "15 | 0.5200\n",
            "16 | 0.5200\n",
            "17 | 0.5200\n",
            "18 | 0.5200\n",
            "19 | 0.5200\n",
            "20 | 0.5200\n",
            "21 | 0.5200\n",
            "22 | 0.5200\n",
            "23 | 0.5200\n",
            "24 | 0.5200\n",
            "25 | 0.5200\n",
            "26 | 0.5200\n",
            "27 | 0.5200\n",
            "28 | 0.5200\n",
            "29 | 0.5200\n",
            "30 | 0.5200\n"
          ]
        }
      ]
    },
    {
      "cell_type": "code",
      "source": [],
      "metadata": {
        "id": "0G2MQ2yEDEHF"
      },
      "execution_count": null,
      "outputs": []
    }
  ]
}