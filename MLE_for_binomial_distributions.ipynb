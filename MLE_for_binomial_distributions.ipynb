{
  "nbformat": 4,
  "nbformat_minor": 0,
  "metadata": {
    "colab": {
      "provenance": [],
      "collapsed_sections": [],
      "authorship_tag": "ABX9TyNsbgbPurbegg/C2CuVpCx8",
      "include_colab_link": true
    },
    "kernelspec": {
      "name": "python3",
      "display_name": "Python 3"
    },
    "language_info": {
      "name": "python"
    }
  },
  "cells": [
    {
      "cell_type": "markdown",
      "metadata": {
        "id": "view-in-github",
        "colab_type": "text"
      },
      "source": [
        "<a href=\"https://colab.research.google.com/github/tomonari-masada/course2022-stats1/blob/main/MLE_for_binomial_distributions.ipynb\" target=\"_parent\"><img src=\"https://colab.research.google.com/assets/colab-badge.svg\" alt=\"Open In Colab\"/></a>"
      ]
    },
    {
      "cell_type": "markdown",
      "metadata": {
        "id": "IRmiFeKLaJ3R"
      },
      "source": [
        "# PyTorchによる二項分布の最尤推定"
      ]
    },
    {
      "cell_type": "code",
      "metadata": {
        "id": "QBaoLZ3hX0R8"
      },
      "source": [
        "import matplotlib.pyplot as plt\n",
        "import torch\n",
        "%config InlineBackend.figure_format='retina'"
      ],
      "execution_count": 1,
      "outputs": []
    },
    {
      "cell_type": "markdown",
      "metadata": {
        "id": "lgtdPY9UaSNn"
      },
      "source": [
        "## PyTorchを使った二項分布の作り方"
      ]
    },
    {
      "cell_type": "markdown",
      "source": [
        "* 以下、コイン投げの言葉を使って説明する。"
      ],
      "metadata": {
        "id": "o3VUmcaio_rm"
      }
    },
    {
      "cell_type": "markdown",
      "metadata": {
        "id": "cY2fo4DHaU7S"
      },
      "source": [
        "* 総試行回数$N$と表が出る確率$\\phi$の値を指定すると、二項分布を一つ選ぶことになる。"
      ]
    },
    {
      "cell_type": "markdown",
      "metadata": {
        "id": "vJxjqlrAamb1"
      },
      "source": [
        "### 例１\n",
        "* $N=100, \\phi=0.1$と設定した二項分布で、表が52回出たという観測データの対数尤度を求める。"
      ]
    },
    {
      "cell_type": "code",
      "metadata": {
        "id": "cGmQxWo5X-ku"
      },
      "source": [
        "N = 100\n",
        "K = 52\n",
        "phi = 0.1"
      ],
      "execution_count": 2,
      "outputs": []
    },
    {
      "cell_type": "code",
      "source": [
        "m = torch.distributions.binomial.Binomial(N, probs=phi)\n",
        "print(m.log_prob(torch.tensor([K])).item())\n",
        "print(m.log_prob(torch.tensor([K])).exp().item())"
      ],
      "metadata": {
        "colab": {
          "base_uri": "https://localhost:8080/"
        },
        "id": "6bK2kieIq2Nh",
        "outputId": "e8c2fee8-81a8-4248-be99-f66870e935b9"
      },
      "execution_count": 3,
      "outputs": [
        {
          "output_type": "stream",
          "name": "stdout",
          "text": [
            "-58.08709716796875\n",
            "5.93053980520853e-26\n"
          ]
        }
      ]
    },
    {
      "cell_type": "code",
      "source": [
        "x = range(N + 1)\n",
        "plt.plot(x, m.log_prob(torch.tensor(x)).exp().numpy(), '.')\n",
        "plt.title(f\"N={N}, phi={phi}\");"
      ],
      "metadata": {
        "colab": {
          "base_uri": "https://localhost:8080/",
          "height": 280
        },
        "id": "kI215rVtp1kV",
        "outputId": "9fafba3c-febe-4500-c24a-4d3da73df9d5"
      },
      "execution_count": 4,
      "outputs": [
        {
          "output_type": "display_data",
          "data": {
            "text/plain": [
              "<Figure size 432x288 with 1 Axes>"
            ],
            "image/png": "[encoded data removed]"
          },
          "metadata": {
            "image/png": {
              "width": 378,
              "height": 263
            },
            "needs_background": "light"
          }
        }
      ]
    },
    {
      "cell_type": "markdown",
      "metadata": {
        "id": "bnlDh0eSbHul"
      },
      "source": [
        "### 例2\n",
        "* $N=100, \\phi=0.5$と設定した二項分布で、表が52回出たという観測データの対数尤度を求める。"
      ]
    },
    {
      "cell_type": "code",
      "source": [
        "N = 100\n",
        "K = 52\n",
        "phi = 0.5"
      ],
      "metadata": {
        "id": "nszIAHeHqruQ"
      },
      "execution_count": 5,
      "outputs": []
    },
    {
      "cell_type": "code",
      "metadata": {
        "id": "K0rIwh4vYwsg",
        "colab": {
          "base_uri": "https://localhost:8080/"
        },
        "outputId": "2b119e19-b805-4b9b-e5de-c886b43553d6"
      },
      "source": [
        "m = torch.distributions.binomial.Binomial(N, probs=phi)\n",
        "print(m.log_prob(torch.tensor([K])).item())\n",
        "print(m.log_prob(torch.tensor([K])).exp().item())"
      ],
      "execution_count": 6,
      "outputs": [
        {
          "output_type": "stream",
          "name": "stdout",
          "text": [
            "-2.610107421875\n",
            "0.07352664321660995\n"
          ]
        }
      ]
    },
    {
      "cell_type": "code",
      "source": [
        "x = range(N + 1)\n",
        "plt.plot(x, m.log_prob(torch.tensor(x)).exp().numpy(), '.')\n",
        "plt.title(f\"N={N}, phi={phi}\");"
      ],
      "metadata": {
        "id": "9FZgaQytBsdf",
        "colab": {
          "base_uri": "https://localhost:8080/",
          "height": 280
        },
        "outputId": "27bf1711-552c-44ae-f618-cedadfce565d"
      },
      "execution_count": 7,
      "outputs": [
        {
          "output_type": "display_data",
          "data": {
            "text/plain": [
              "<Figure size 432x288 with 1 Axes>"
            ],
            "image/png": "[encoded data removed]"
          },
          "metadata": {
            "image/png": {
              "width": 378,
              "height": 263
            },
            "needs_background": "light"
          }
        }
      ]
    },
    {
      "cell_type": "markdown",
      "source": [
        "* 表の出た回数が52回であれば、一つ目より2つ目のモデルが、データ尤度を大きくしていると分かる。\n",
        "* では、データ尤度を最大にする二項分布モデルのパラメータ$\\phi$は、いくらだろうか？"
      ],
      "metadata": {
        "id": "FxF1sqM8rXAC"
      }
    },
    {
      "cell_type": "markdown",
      "metadata": {
        "id": "hDiVqzFwbTP-"
      },
      "source": [
        "## 対数尤度最大化をPyTorchで実装"
      ]
    },
    {
      "cell_type": "markdown",
      "metadata": {
        "id": "s1kNy_kubXsi"
      },
      "source": [
        "* 二項分布のパラメータは、微分可能なテンソルとして作っておく。\n",
        "* そして、そのパラメータを更新するoptimizerを作る。"
      ]
    },
    {
      "cell_type": "code",
      "source": [
        "N = 100\n",
        "K = 52"
      ],
      "metadata": {
        "id": "DCZgtDawryQX"
      },
      "execution_count": 8,
      "outputs": []
    },
    {
      "cell_type": "code",
      "metadata": {
        "id": "6I9KKbMUZDXH"
      },
      "source": [
        "phi = torch.tensor([0.232], requires_grad=True) # 適当な値に初期化\n",
        "optimizer = torch.optim.SGD([phi], lr=0.001) # 最適化アルゴリズムはSGD"
      ],
      "execution_count": 9,
      "outputs": []
    },
    {
      "cell_type": "markdown",
      "metadata": {
        "id": "H4vVqHMfbfwz"
      },
      "source": [
        "* negative log likelihoodを最小化する。\n",
        " * PyTorchでは最小化の計算しかできないので、最大化したいときは、マイナスを付けたものを最小化する。"
      ]
    },
    {
      "cell_type": "code",
      "metadata": {
        "id": "wXEh_0bVZVLW",
        "colab": {
          "base_uri": "https://localhost:8080/"
        },
        "outputId": "b1dd4c55-3a12-4445-a284-807da8886d7c"
      },
      "source": [
        "for i in range(30):\n",
        "  optimizer.zero_grad()\n",
        "  m = torch.distributions.binomial.Binomial(N, probs=phi)\n",
        "  loss = - m.log_prob(torch.tensor([K]))\n",
        "  loss.backward()\n",
        "  optimizer.step()\n",
        "  print(f\"{i+1} | {phi.item():.4f}\")"
      ],
      "execution_count": 10,
      "outputs": [
        {
          "output_type": "stream",
          "name": "stdout",
          "text": [
            "1 | 0.3936\n",
            "2 | 0.4466\n",
            "3 | 0.4763\n",
            "4 | 0.4938\n",
            "5 | 0.5043\n",
            "6 | 0.5106\n",
            "7 | 0.5143\n",
            "8 | 0.5166\n",
            "9 | 0.5180\n",
            "10 | 0.5188\n",
            "11 | 0.5193\n",
            "12 | 0.5196\n",
            "13 | 0.5197\n",
            "14 | 0.5198\n",
            "15 | 0.5199\n",
            "16 | 0.5199\n",
            "17 | 0.5200\n",
            "18 | 0.5200\n",
            "19 | 0.5200\n",
            "20 | 0.5200\n",
            "21 | 0.5200\n",
            "22 | 0.5200\n",
            "23 | 0.5200\n",
            "24 | 0.5200\n",
            "25 | 0.5200\n",
            "26 | 0.5200\n",
            "27 | 0.5200\n",
            "28 | 0.5200\n",
            "29 | 0.5200\n",
            "30 | 0.5200\n"
          ]
        }
      ]
    },
    {
      "cell_type": "markdown",
      "source": [
        "# TensorFlowによる二項分布の最尤推定"
      ],
      "metadata": {
        "id": "eefVXlNXibEe"
      }
    },
    {
      "cell_type": "code",
      "source": [
        "import tensorflow as tf\n",
        "import tensorflow_probability as tfp"
      ],
      "metadata": {
        "id": "FR0a3_5QehGh"
      },
      "execution_count": 11,
      "outputs": []
    },
    {
      "cell_type": "code",
      "source": [
        "N = 100\n",
        "K = 52"
      ],
      "metadata": {
        "id": "nLBcBut9sNhm"
      },
      "execution_count": 12,
      "outputs": []
    },
    {
      "cell_type": "code",
      "source": [
        "phi = tf.Variable(0.232) # 適当に初期化\n",
        "opt = tf.optimizers.SGD(learning_rate=0.001)"
      ],
      "metadata": {
        "id": "tqohBcMjeavb"
      },
      "execution_count": 13,
      "outputs": []
    },
    {
      "cell_type": "code",
      "source": [
        "m = tfp.distributions.Binomial(N, probs=phi)\n",
        "for i in range(30):\n",
        "  loss = lambda: - m.log_prob(K)\n",
        "  opt.minimize(loss, var_list=[phi])\n",
        "  print(f\"{i+1} | {phi.numpy():.4f}\")"
      ],
      "metadata": {
        "id": "PjqtHi5cfC7s",
        "colab": {
          "base_uri": "https://localhost:8080/"
        },
        "outputId": "621b6576-fe47-48f4-8f25-9796c23464ee"
      },
      "execution_count": 14,
      "outputs": [
        {
          "output_type": "stream",
          "name": "stdout",
          "text": [
            "1 | 0.3936\n",
            "2 | 0.4466\n",
            "3 | 0.4763\n",
            "4 | 0.4938\n",
            "5 | 0.5043\n",
            "6 | 0.5106\n",
            "7 | 0.5143\n",
            "8 | 0.5166\n",
            "9 | 0.5180\n",
            "10 | 0.5188\n",
            "11 | 0.5193\n",
            "12 | 0.5196\n",
            "13 | 0.5197\n",
            "14 | 0.5198\n",
            "15 | 0.5199\n",
            "16 | 0.5199\n",
            "17 | 0.5200\n",
            "18 | 0.5200\n",
            "19 | 0.5200\n",
            "20 | 0.5200\n",
            "21 | 0.5200\n",
            "22 | 0.5200\n",
            "23 | 0.5200\n",
            "24 | 0.5200\n",
            "25 | 0.5200\n",
            "26 | 0.5200\n",
            "27 | 0.5200\n",
            "28 | 0.5200\n",
            "29 | 0.5200\n",
            "30 | 0.5200\n"
          ]
        }
      ]
    },
    {
      "cell_type": "markdown",
      "source": [
        "# NumPyroによる二項分布の最尤推定"
      ],
      "metadata": {
        "id": "BfNbTNh-3ps1"
      }
    },
    {
      "cell_type": "code",
      "source": [
        "!pip install numpyro"
      ],
      "metadata": {
        "colab": {
          "base_uri": "https://localhost:8080/"
        },
        "id": "Q0V4aJPRvz4s",
        "outputId": "c101a9b8-e2eb-43e5-a3df-15b0bbbd726c"
      },
      "execution_count": 15,
      "outputs": [
        {
          "output_type": "stream",
          "name": "stdout",
          "text": [
            "Looking in indexes: https://pypi.org/simple, https://us-python.pkg.dev/colab-wheels/public/simple/\n",
            "Collecting numpyro\n",
            "  Downloading numpyro-0.10.1-py3-none-any.whl (292 kB)\n",
            "\u001b[K     |████████████████████████████████| 292 kB 8.8 MB/s \n",
            "\u001b[?25hRequirement already satisfied: tqdm in /usr/local/lib/python3.7/dist-packages (from numpyro) (4.64.1)\n",
            "Requirement already satisfied: jax>=0.2.13 in /usr/local/lib/python3.7/dist-packages (from numpyro) (0.3.21)\n",
            "Requirement already satisfied: numpy in /usr/local/lib/python3.7/dist-packages (from numpyro) (1.21.6)\n",
            "Requirement already satisfied: multipledispatch in /usr/local/lib/python3.7/dist-packages (from numpyro) (0.6.0)\n",
            "Requirement already satisfied: jaxlib>=0.1.65 in /usr/local/lib/python3.7/dist-packages (from numpyro) (0.3.20+cuda11.cudnn805)\n",
            "Requirement already satisfied: typing-extensions in /usr/local/lib/python3.7/dist-packages (from jax>=0.2.13->numpyro) (4.1.1)\n",
            "Requirement already satisfied: opt-einsum in /usr/local/lib/python3.7/dist-packages (from jax>=0.2.13->numpyro) (3.3.0)\n",
            "Requirement already satisfied: scipy>=1.5 in /usr/local/lib/python3.7/dist-packages (from jax>=0.2.13->numpyro) (1.7.3)\n",
            "Requirement already satisfied: absl-py in /usr/local/lib/python3.7/dist-packages (from jax>=0.2.13->numpyro) (1.2.0)\n",
            "Requirement already satisfied: etils[epath] in /usr/local/lib/python3.7/dist-packages (from jax>=0.2.13->numpyro) (0.8.0)\n",
            "Requirement already satisfied: importlib_resources in /usr/local/lib/python3.7/dist-packages (from etils[epath]->jax>=0.2.13->numpyro) (5.10.0)\n",
            "Requirement already satisfied: zipp in /usr/local/lib/python3.7/dist-packages (from etils[epath]->jax>=0.2.13->numpyro) (3.9.0)\n",
            "Requirement already satisfied: six in /usr/local/lib/python3.7/dist-packages (from multipledispatch->numpyro) (1.15.0)\n",
            "Installing collected packages: numpyro\n",
            "Successfully installed numpyro-0.10.1\n"
          ]
        }
      ]
    },
    {
      "cell_type": "code",
      "source": [
        "import numpy as np\n",
        "from jax import random\n",
        "import numpyro\n",
        "import numpyro.distributions as dist\n",
        "from numpyro.infer import SVI, Trace_ELBO"
      ],
      "metadata": {
        "id": "PItR4jSffbI1"
      },
      "execution_count": 16,
      "outputs": []
    },
    {
      "cell_type": "code",
      "source": [
        "N = 100\n",
        "K = 52"
      ],
      "metadata": {
        "id": "n3x9HRJ7skvk"
      },
      "execution_count": 17,
      "outputs": []
    },
    {
      "cell_type": "code",
      "source": [
        "def model(data):\n",
        "  f = numpyro.param(\"phi\", np.array(0.232))\n",
        "  numpyro.sample(\"obs\", dist.Binomial(N, f), obs=data)\n",
        "\n",
        "numpyro.render_model(model, model_args=(K,),\n",
        "                     render_distributions=True, render_params=True)\n",
        "\n",
        "def guide(data):\n",
        "  pass"
      ],
      "metadata": {
        "id": "zgwXXWoNzJ_6"
      },
      "execution_count": 18,
      "outputs": []
    },
    {
      "cell_type": "code",
      "source": [
        "opt = numpyro.optim.SGD(step_size=0.001)\n",
        "svi = SVI(model, guide, opt, loss=Trace_ELBO())\n",
        "svi_state = svi.init(random.PRNGKey(0), K)\n",
        "for i in range(30):\n",
        "  svi_state, loss = svi.update(svi_state, K)\n",
        "  print(f\"{i+1} | {svi.get_params(svi_state)['phi']:.4f}\")"
      ],
      "metadata": {
        "colab": {
          "base_uri": "https://localhost:8080/"
        },
        "id": "D-FtYMmnwpsn",
        "outputId": "889effc7-e7ef-4202-ccda-fdde2031b276"
      },
      "execution_count": 19,
      "outputs": [
        {
          "output_type": "stream",
          "name": "stdout",
          "text": [
            "1 | 0.3936\n",
            "2 | 0.4466\n",
            "3 | 0.4763\n",
            "4 | 0.4938\n",
            "5 | 0.5043\n",
            "6 | 0.5106\n",
            "7 | 0.5143\n",
            "8 | 0.5166\n",
            "9 | 0.5180\n",
            "10 | 0.5188\n",
            "11 | 0.5193\n",
            "12 | 0.5196\n",
            "13 | 0.5197\n",
            "14 | 0.5198\n",
            "15 | 0.5199\n",
            "16 | 0.5199\n",
            "17 | 0.5200\n",
            "18 | 0.5200\n",
            "19 | 0.5200\n",
            "20 | 0.5200\n",
            "21 | 0.5200\n",
            "22 | 0.5200\n",
            "23 | 0.5200\n",
            "24 | 0.5200\n",
            "25 | 0.5200\n",
            "26 | 0.5200\n",
            "27 | 0.5200\n",
            "28 | 0.5200\n",
            "29 | 0.5200\n",
            "30 | 0.5200\n"
          ]
        }
      ]
    },
    {
      "cell_type": "code",
      "source": [],
      "metadata": {
        "id": "uny5qQMQ3CSP"
      },
      "execution_count": 19,
      "outputs": []
    }
  ]
}