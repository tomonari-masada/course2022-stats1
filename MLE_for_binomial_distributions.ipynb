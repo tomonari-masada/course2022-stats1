{
  "nbformat": 4,
  "nbformat_minor": 0,
  "metadata": {
    "colab": {
      "provenance": [],
      "collapsed_sections": [],
      "authorship_tag": "ABX9TyOUD7d8AWpOdxWLytX+1iWT",
      "include_colab_link": true
    },
    "kernelspec": {
      "name": "python3",
      "display_name": "Python 3"
    },
    "language_info": {
      "name": "python"
    }
  },
  "cells": [
    {
      "cell_type": "markdown",
      "metadata": {
        "id": "view-in-github",
        "colab_type": "text"
      },
      "source": [
        "<a href=\"https://colab.research.google.com/github/tomonari-masada/course2022-stats1/blob/main/MLE_for_binomial_distributions.ipynb\" target=\"_parent\"><img src=\"https://colab.research.google.com/assets/colab-badge.svg\" alt=\"Open In Colab\"/></a>"
      ]
    },
    {
      "cell_type": "markdown",
      "metadata": {
        "id": "IRmiFeKLaJ3R"
      },
      "source": [
        "# PyTorchによる二項分布の最尤推定"
      ]
    },
    {
      "cell_type": "code",
      "metadata": {
        "id": "QBaoLZ3hX0R8"
      },
      "source": [
        "import matplotlib.pyplot as plt\n",
        "import torch"
      ],
      "execution_count": null,
      "outputs": []
    },
    {
      "cell_type": "markdown",
      "metadata": {
        "id": "lgtdPY9UaSNn"
      },
      "source": [
        "## PyTorchを使った二項分布の作り方"
      ]
    },
    {
      "cell_type": "markdown",
      "metadata": {
        "id": "cY2fo4DHaU7S"
      },
      "source": [
        "* 総試行回数と、パラメータを指定。"
      ]
    },
    {
      "cell_type": "markdown",
      "metadata": {
        "id": "vJxjqlrAamb1"
      },
      "source": [
        "* まずは$\\phi=0$と設定して、100回試行の場合の52という回数の対数尤度を求める。\n",
        " * 尤度はほぼゼロになる。つまり、$\\phi=0$のとき、52回という回数はほぼありえない、ということ。"
      ]
    },
    {
      "cell_type": "code",
      "metadata": {
        "id": "cGmQxWo5X-ku"
      },
      "source": [
        "phi = torch.tensor([0.])\n",
        "m = torch.distributions.binomial.Binomial(100, probs=phi)"
      ],
      "execution_count": null,
      "outputs": []
    },
    {
      "cell_type": "code",
      "metadata": {
        "id": "Q2YKJEtrYF0T"
      },
      "source": [
        "m.log_prob(torch.tensor([52]))"
      ],
      "execution_count": null,
      "outputs": []
    },
    {
      "cell_type": "markdown",
      "source": [
        "* 確率の値に直す。"
      ],
      "metadata": {
        "id": "dks6HppKBlBl"
      }
    },
    {
      "cell_type": "code",
      "metadata": {
        "id": "stm_rAtaY_nW"
      },
      "source": [
        "m.log_prob(torch.tensor([52])).exp()"
      ],
      "execution_count": null,
      "outputs": []
    },
    {
      "cell_type": "markdown",
      "metadata": {
        "id": "bnlDh0eSbHul"
      },
      "source": [
        "* 次に$\\phi=0.5$と設定して、100回試行の場合の52という回数の対数尤度を求める。\n",
        " * 尤度は大きくなる。つまり、$\\phi=0.5$のときなら、52回という回数はかなりありえる、ということ。"
      ]
    },
    {
      "cell_type": "code",
      "metadata": {
        "id": "K0rIwh4vYwsg"
      },
      "source": [
        "phi = torch.tensor([0.5], requires_grad=True)\n",
        "m = torch.distributions.binomial.Binomial(100, probs=phi)"
      ],
      "execution_count": null,
      "outputs": []
    },
    {
      "cell_type": "code",
      "metadata": {
        "id": "er1DQHCcY5o3"
      },
      "source": [
        "m.log_prob(torch.tensor([52]))"
      ],
      "execution_count": null,
      "outputs": []
    },
    {
      "cell_type": "code",
      "metadata": {
        "id": "EI9tW-PPY5-_"
      },
      "source": [
        "m.log_prob(torch.tensor([52])).exp()"
      ],
      "execution_count": null,
      "outputs": []
    },
    {
      "cell_type": "code",
      "source": [
        "x = range(101)\n",
        "plt.plot(x, m.log_prob(torch.tensor(x)).exp().detach().numpy(), '.')\n",
        "plt.title(\"N=100, phi_head=0.5\");"
      ],
      "metadata": {
        "id": "9FZgaQytBsdf"
      },
      "execution_count": null,
      "outputs": []
    },
    {
      "cell_type": "markdown",
      "metadata": {
        "id": "hDiVqzFwbTP-"
      },
      "source": [
        "## 対数尤度最大化をPyTorchで実装"
      ]
    },
    {
      "cell_type": "markdown",
      "metadata": {
        "id": "s1kNy_kubXsi"
      },
      "source": [
        "* 二項分布のパラメータは、微分可能なテンソルとして作っておく。\n",
        "* そして、そのパラメータを更新するoptimizerを作る。"
      ]
    },
    {
      "cell_type": "code",
      "metadata": {
        "id": "6I9KKbMUZDXH"
      },
      "source": [
        "phi = torch.tensor([0.132], requires_grad=True) # 適当に初期化\n",
        "optimizer = torch.optim.SGD([phi], lr=0.001)"
      ],
      "execution_count": null,
      "outputs": []
    },
    {
      "cell_type": "markdown",
      "metadata": {
        "id": "H4vVqHMfbfwz"
      },
      "source": [
        "* negative log likelihoodを最小化する。\n",
        " * PyTorchでは最小化の計算しかできないので、最大化したいときは、マイナスを付けたものを最小化する。"
      ]
    },
    {
      "cell_type": "code",
      "metadata": {
        "id": "wXEh_0bVZVLW"
      },
      "source": [
        "for i in range(30):\n",
        "  optimizer.zero_grad()\n",
        "  m = torch.distributions.binomial.Binomial(100, probs=phi)\n",
        "  loss = - m.log_prob(torch.tensor([52]))\n",
        "  loss.backward()\n",
        "  optimizer.step()\n",
        "  print(f\"{i+1} | {phi.item():.4f}\")"
      ],
      "execution_count": null,
      "outputs": []
    },
    {
      "cell_type": "code",
      "source": [],
      "metadata": {
        "id": "0G2MQ2yEDEHF"
      },
      "execution_count": null,
      "outputs": []
    },
    {
      "cell_type": "markdown",
      "source": [
        "## おまけ：対数尤度最大化をTensorFlowで実装"
      ],
      "metadata": {
        "id": "eefVXlNXibEe"
      }
    },
    {
      "cell_type": "code",
      "source": [
        "import tensorflow as tf\n",
        "import tensorflow_probability as tfp"
      ],
      "metadata": {
        "id": "FR0a3_5QehGh"
      },
      "execution_count": null,
      "outputs": []
    },
    {
      "cell_type": "code",
      "source": [
        "phi = tf.Variable(0.132) # 適当に初期化\n",
        "opt = tf.keras.optimizers.Adam(learning_rate=0.01)"
      ],
      "metadata": {
        "id": "tqohBcMjeavb"
      },
      "execution_count": null,
      "outputs": []
    },
    {
      "cell_type": "code",
      "source": [
        "m = tfp.distributions.Binomial(100, probs=phi)\n",
        "for i in range(200):\n",
        "  loss = lambda: - m.log_prob(52)\n",
        "  opt.minimize(loss, var_list=[phi])\n",
        "  print(f\"{i+1} | {phi.numpy():.4f}\")"
      ],
      "metadata": {
        "id": "PjqtHi5cfC7s"
      },
      "execution_count": null,
      "outputs": []
    },
    {
      "cell_type": "code",
      "source": [],
      "metadata": {
        "id": "PItR4jSffbI1"
      },
      "execution_count": null,
      "outputs": []
    }
  ]
}