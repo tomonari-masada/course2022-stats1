{
  "nbformat": 4,
  "nbformat_minor": 0,
  "metadata": {
    "colab": {
      "provenance": [],
      "authorship_tag": "ABX9TyOW72BZFsdZiwd2jknV3DQI",
      "include_colab_link": true
    },
    "kernelspec": {
      "name": "python3",
      "display_name": "Python 3"
    },
    "language_info": {
      "name": "python"
    }
  },
  "cells": [
    {
      "cell_type": "markdown",
      "metadata": {
        "id": "view-in-github",
        "colab_type": "text"
      },
      "source": [
        "<a href=\"https://colab.research.google.com/github/tomonari-masada/course2022-stats1/blob/main/topic_analysis_with_PLSI.ipynb\" target=\"_parent\"><img src=\"https://colab.research.google.com/assets/colab-badge.svg\" alt=\"Open In Colab\"/></a>"
      ]
    },
    {
      "cell_type": "markdown",
      "source": [
        "# PLSI (PLSA) によるトピック分析\n",
        "* PLSI = probabilistic latent semantic indexing\n",
        "* PLSA = probabilistic latent semantic analysis "
      ],
      "metadata": {
        "id": "QeA8pNfaQCb8"
      }
    },
    {
      "cell_type": "markdown",
      "source": [
        "## データセット"
      ],
      "metadata": {
        "id": "uVfmr_VxdCV7"
      }
    },
    {
      "cell_type": "markdown",
      "source": [
        "* scikit-learnを使ったテキストデータの扱い方については、下記リンク先を参照。\n",
        " * https://scikit-learn.org/stable/tutorial/text_analytics/working_with_text_data.html"
      ],
      "metadata": {
        "id": "goK_Nw1qP7P8"
      }
    },
    {
      "cell_type": "code",
      "execution_count": null,
      "metadata": {
        "id": "jJc4cZOYL6mf"
      },
      "outputs": [],
      "source": [
        "import numpy as np\n",
        "from sklearn.datasets import fetch_20newsgroups\n",
        "from sklearn.feature_extraction.text import CountVectorizer"
      ]
    },
    {
      "cell_type": "markdown",
      "source": [
        "* 文書数を減らすために、4つのカテゴリの文書だけを使う。"
      ],
      "metadata": {
        "id": "wG-Cxlc69Lhh"
      }
    },
    {
      "cell_type": "code",
      "source": [
        "categories = ['rec.motorcycles', 'rec.sport.baseball', 'comp.graphics', 'sci.med']"
      ],
      "metadata": {
        "id": "Asj05LoSQLJH"
      },
      "execution_count": null,
      "outputs": []
    },
    {
      "cell_type": "code",
      "source": [
        "twenty_train = fetch_20newsgroups(subset='train', categories=categories)"
      ],
      "metadata": {
        "id": "vaK4LDg7MCMK"
      },
      "execution_count": null,
      "outputs": []
    },
    {
      "cell_type": "code",
      "source": [
        "twenty_train.target_names"
      ],
      "metadata": {
        "id": "eC7X93UdMi0b"
      },
      "execution_count": null,
      "outputs": []
    },
    {
      "cell_type": "code",
      "source": [
        "len(twenty_train.data)"
      ],
      "metadata": {
        "id": "Sku_CR-CMZdA"
      },
      "execution_count": null,
      "outputs": []
    },
    {
      "cell_type": "code",
      "source": [
        "count_vect = CountVectorizer(min_df=20, max_df=0.1, stop_words=\"english\")\n",
        "X_train_counts = count_vect.fit_transform(twenty_train.data)"
      ],
      "metadata": {
        "id": "sET1SYfbMUIO"
      },
      "execution_count": null,
      "outputs": []
    },
    {
      "cell_type": "code",
      "source": [
        "X_train_counts.shape"
      ],
      "metadata": {
        "id": "m3WcjnwhMsYq"
      },
      "execution_count": null,
      "outputs": []
    },
    {
      "cell_type": "code",
      "source": [
        "type(X_train_counts)"
      ],
      "metadata": {
        "id": "AImcNwGhRsXc"
      },
      "execution_count": null,
      "outputs": []
    },
    {
      "cell_type": "code",
      "source": [
        "X_train_counts = X_train_counts.toarray()"
      ],
      "metadata": {
        "id": "CdPycQRQRt-m"
      },
      "execution_count": null,
      "outputs": []
    },
    {
      "cell_type": "markdown",
      "source": [
        "* 単語のインデックス"
      ],
      "metadata": {
        "id": "TNH24vMzQYHG"
      }
    },
    {
      "cell_type": "code",
      "source": [
        "count_vect.vocabulary_.get('apple')"
      ],
      "metadata": {
        "id": "MtHmlQDHMuqh"
      },
      "execution_count": null,
      "outputs": []
    },
    {
      "cell_type": "code",
      "source": [
        "count_vect.get_feature_names_out()[224]"
      ],
      "metadata": {
        "id": "V_xyVnc1VLJv"
      },
      "execution_count": null,
      "outputs": []
    },
    {
      "cell_type": "markdown",
      "source": [
        "* 除去されたストップワード"
      ],
      "metadata": {
        "id": "QnTMiHA5QcAA"
      }
    },
    {
      "cell_type": "code",
      "source": [
        "print(count_vect.get_stop_words())"
      ],
      "metadata": {
        "id": "qy3LJtiWNhHv"
      },
      "execution_count": null,
      "outputs": []
    },
    {
      "cell_type": "markdown",
      "source": [
        "## モデルの設定"
      ],
      "metadata": {
        "id": "2cS16QxhdAcj"
      }
    },
    {
      "cell_type": "markdown",
      "source": [
        "* $D$: 文書数\n",
        "* $W$: 語彙数\n",
        "* $K$: トピック数（これは自分で決める）"
      ],
      "metadata": {
        "id": "ylRmJVYg5YJ5"
      }
    },
    {
      "cell_type": "code",
      "source": [
        "D, W = X_train_counts.shape\n",
        "K = 10\n",
        "print(f\"{D} documents, {W} different words, and {K} topics\")"
      ],
      "metadata": {
        "id": "PYncaBLEN4cd"
      },
      "execution_count": null,
      "outputs": []
    },
    {
      "cell_type": "markdown",
      "source": [
        "## モデルのパラメータ\n",
        "* `q`の形は[D, W, K]\n",
        " * $q_{d,w,k}$は、$d$番目の文書で$w$番目の単語が、$K$個のトピックのうち$k$番目のトピックを表現するために使われる確率。\n",
        "* `theta`の形は[D, K]\n",
        " * $\\theta_{d,k}$は、$d$番目の文書で、$K$個のトピックのうち$k$番目のトピックを表現するためにいずれかの単語が使われる確率。\n",
        "* `phi`の形は、ここでの実装上は、[W, K]\n",
        " * 授業資料では、$\\phi_{k, w}$と添え字が付けられていたので、ここでは転置してある。\n",
        " * $\\phi_{k,w}$は、$k$番目のトピックを表現するために、$W$種類ある単語のうち$w$番目の単語が使われる確率。\n"
      ],
      "metadata": {
        "id": "cM7uoh5X5jCK"
      }
    },
    {
      "cell_type": "markdown",
      "source": [
        "## M step\n",
        "* モデルパラメータを更新する。"
      ],
      "metadata": {
        "id": "Q2RUGakedEzP"
      }
    },
    {
      "cell_type": "code",
      "source": [
        "def m_step(counts, q):\n",
        "  pseudo_counts = counts[:, :, None] * q\n",
        "  theta = pseudo_counts.sum(1)\n",
        "  theta = theta / theta.sum(-1, keepdims=True)\n",
        "  phi = pseudo_counts.sum(0)\n",
        "  phi = phi / phi.sum(0, keepdims=True)\n",
        "  return theta, phi"
      ],
      "metadata": {
        "id": "bus8FvsSOr4U"
      },
      "execution_count": null,
      "outputs": []
    },
    {
      "cell_type": "markdown",
      "source": [
        "## E step"
      ],
      "metadata": {
        "id": "f51SOYgJdF4j"
      }
    },
    {
      "cell_type": "markdown",
      "source": [
        "* responsibilityを更新する。"
      ],
      "metadata": {
        "id": "zmN7IzIJ7AKA"
      }
    },
    {
      "cell_type": "code",
      "source": [
        "def e_step(theta, phi):\n",
        "  q = theta[:, None, :] * phi[None, :, :]\n",
        "  q = q / q.sum(-1, keepdims=True)\n",
        "  return q"
      ],
      "metadata": {
        "id": "zI3jsA8iPnwa"
      },
      "execution_count": null,
      "outputs": []
    },
    {
      "cell_type": "markdown",
      "source": [
        "## lower boundの計算\n",
        "* EMアルゴリズムがlower boundを大きくしていっているかチェックするため。"
      ],
      "metadata": {
        "id": "jsugV3xsdG_p"
      }
    },
    {
      "cell_type": "code",
      "source": [
        "def lower_bound(counts, q, theta, phi):\n",
        "  pseudo_counts = counts[:, :, None] * q\n",
        "  lb = (pseudo_counts * np.log(theta[:, None, :] + 1e-16)).sum()\n",
        "  lb += (pseudo_counts * np.log(phi[None, :, :] + 1e-16)).sum()\n",
        "  lb -= (pseudo_counts * np.log(q + 1e-16)).sum()\n",
        "  return lb"
      ],
      "metadata": {
        "id": "IZL2Yg3KR9F5"
      },
      "execution_count": null,
      "outputs": []
    },
    {
      "cell_type": "markdown",
      "source": [
        "## 初期化"
      ],
      "metadata": {
        "id": "7-E0SLaFdI3f"
      }
    },
    {
      "cell_type": "code",
      "source": [
        "q = np.random.randn(D, W, K)\n",
        "q = np.exp(q) / np.exp(q).sum(-1, keepdims=True)"
      ],
      "metadata": {
        "id": "4jGZe7tHSBDA"
      },
      "execution_count": null,
      "outputs": []
    },
    {
      "cell_type": "markdown",
      "source": [
        "## EMアルゴリズムの実行"
      ],
      "metadata": {
        "id": "xZTnw5jRdKQ2"
      }
    },
    {
      "cell_type": "code",
      "source": [
        "for i in range(50):\n",
        "  theta, phi = m_step(X_train_counts, q)\n",
        "  q = e_step(theta, phi)\n",
        "  lb = lower_bound(X_train_counts, q, theta, phi)\n",
        "  print(f\"iter {i+1} | lower bound {lb:.4e}\")"
      ],
      "metadata": {
        "id": "LY6lFkjpSFPn"
      },
      "execution_count": null,
      "outputs": []
    },
    {
      "cell_type": "markdown",
      "source": [
        "## トピック語の表示\n",
        "* 各$k$について、$\\phi_{k,w}$が大きい順に単語を拾う。"
      ],
      "metadata": {
        "id": "-JxPSP0hdNWB"
      }
    },
    {
      "cell_type": "code",
      "source": [
        "topic_words = np.argsort(- phi, axis=0)\n",
        "for k in range(K):\n",
        "  print(k, end=' : ')\n",
        "  for i in range(20):\n",
        "    print(count_vect.get_feature_names_out()[topic_words[i, k]], end=', ')\n",
        "  print()"
      ],
      "metadata": {
        "id": "4FE-5qAySG4P"
      },
      "execution_count": null,
      "outputs": []
    },
    {
      "cell_type": "markdown",
      "source": [
        "# 発展課題\n",
        "* ここでは、$q_{d,w,k}$を（文書数）✖️（語彙数）✖️（トピック数）という巨大な配列として実装した。\n",
        "* しかし、文書数や語彙数が増えると、このサイズの配列をメインメモリ上に用意することはできなくなる。\n",
        "* $q_{d,w,k}$をどのように実装すれば、この問題を回避できるか？"
      ],
      "metadata": {
        "id": "M5_rgnjl7fi5"
      }
    },
    {
      "cell_type": "code",
      "source": [],
      "metadata": {
        "id": "7gsb_mBwWHqR"
      },
      "execution_count": null,
      "outputs": []
    }
  ]
}