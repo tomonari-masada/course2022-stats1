{
  "nbformat": 4,
  "nbformat_minor": 0,
  "metadata": {
    "colab": {
      "provenance": [],
      "collapsed_sections": [],
      "authorship_tag": "ABX9TyNHmnHI51xYmHGrePBCxMxI",
      "include_colab_link": true
    },
    "kernelspec": {
      "name": "python3",
      "display_name": "Python 3"
    },
    "language_info": {
      "name": "python"
    }
  },
  "cells": [
    {
      "cell_type": "markdown",
      "metadata": {
        "id": "view-in-github",
        "colab_type": "text"
      },
      "source": [
        "<a href=\"https://colab.research.google.com/github/tomonari-masada/course2022-stats1/blob/main/binomial_ML_estimation.ipynb\" target=\"_parent\"><img src=\"https://colab.research.google.com/assets/colab-badge.svg\" alt=\"Open In Colab\"/></a>"
      ]
    },
    {
      "cell_type": "markdown",
      "metadata": {
        "id": "IRmiFeKLaJ3R"
      },
      "source": [
        "# 二項分布のパラメータの最尤推定をPyTorchで"
      ]
    },
    {
      "cell_type": "markdown",
      "metadata": {
        "id": "4845HHuJaObl"
      },
      "source": [
        "* PyTorchのインポート"
      ]
    },
    {
      "cell_type": "code",
      "metadata": {
        "id": "QBaoLZ3hX0R8"
      },
      "source": [
        "import torch"
      ],
      "execution_count": null,
      "outputs": []
    },
    {
      "cell_type": "markdown",
      "metadata": {
        "id": "lgtdPY9UaSNn"
      },
      "source": [
        "## 二項分布の作り方を確認"
      ]
    },
    {
      "cell_type": "markdown",
      "metadata": {
        "id": "cY2fo4DHaU7S"
      },
      "source": [
        "* 総試行回数と、パラメータを指定。"
      ]
    },
    {
      "cell_type": "markdown",
      "metadata": {
        "id": "vJxjqlrAamb1"
      },
      "source": [
        "* まずは$\\phi=0$と設定して、100回試行の場合の52という回数の対数尤度を求める。\n",
        " * 尤度はほぼゼロになる。つまり、$\\phi=0$のとき、52回という回数はほぼありえない、ということ。"
      ]
    },
    {
      "cell_type": "code",
      "metadata": {
        "id": "cGmQxWo5X-ku"
      },
      "source": [
        "phi = torch.tensor([0.])\n",
        "m = torch.distributions.binomial.Binomial(100, probs=phi)"
      ],
      "execution_count": null,
      "outputs": []
    },
    {
      "cell_type": "code",
      "metadata": {
        "id": "Q2YKJEtrYF0T"
      },
      "source": [
        "m.log_prob(torch.tensor([52]))"
      ],
      "execution_count": null,
      "outputs": []
    },
    {
      "cell_type": "code",
      "metadata": {
        "id": "stm_rAtaY_nW"
      },
      "source": [
        "m.log_prob(torch.tensor([52])).exp()"
      ],
      "execution_count": null,
      "outputs": []
    },
    {
      "cell_type": "markdown",
      "metadata": {
        "id": "bnlDh0eSbHul"
      },
      "source": [
        "* 次に$\\phi=0.5$と設定して、100回試行の場合の52という回数の対数尤度を求める。\n",
        " * 尤度は大きくなる。つまり、$\\phi=0.5$のときなら、52回という回数はかなりありえる、ということ。"
      ]
    },
    {
      "cell_type": "code",
      "metadata": {
        "id": "K0rIwh4vYwsg"
      },
      "source": [
        "phi = torch.tensor([0.5], requires_grad=True)\n",
        "m = torch.distributions.binomial.Binomial(100, probs=phi)"
      ],
      "execution_count": null,
      "outputs": []
    },
    {
      "cell_type": "code",
      "metadata": {
        "id": "er1DQHCcY5o3"
      },
      "source": [
        "m.log_prob(torch.tensor([52]))"
      ],
      "execution_count": null,
      "outputs": []
    },
    {
      "cell_type": "code",
      "metadata": {
        "id": "EI9tW-PPY5-_"
      },
      "source": [
        "m.log_prob(torch.tensor([52])).exp()"
      ],
      "execution_count": null,
      "outputs": []
    },
    {
      "cell_type": "markdown",
      "metadata": {
        "id": "hDiVqzFwbTP-"
      },
      "source": [
        "## 対数尤度最大化をPyTorchで実装"
      ]
    },
    {
      "cell_type": "markdown",
      "metadata": {
        "id": "s1kNy_kubXsi"
      },
      "source": [
        "* 二項分布のパラメータは、微分可能なテンソルとして作っておく。\n",
        "* そして、そのパラメータを更新するoptimizerを作る。\n",
        " * optimizerは、簡単にSGDにしておく。\n",
        " * 学習率は小さくしておかないと、最適化がうまくいかないかも。"
      ]
    },
    {
      "cell_type": "code",
      "metadata": {
        "id": "6I9KKbMUZDXH"
      },
      "source": [
        "phi = torch.tensor([0.132], requires_grad=True) # 適当に初期化\n",
        "optimizer = torch.optim.SGD([phi], lr=0.001)"
      ],
      "execution_count": null,
      "outputs": []
    },
    {
      "cell_type": "markdown",
      "metadata": {
        "id": "H4vVqHMfbfwz"
      },
      "source": [
        "* 1000回のイテレーションで、negative log likelihoodを最小化する。\n",
        " * PyTorchでは最小化の計算しかできないので、最大化したいときは、マイナスを付けたものを最小化する。"
      ]
    },
    {
      "cell_type": "code",
      "metadata": {
        "id": "wXEh_0bVZVLW"
      },
      "source": [
        "for i in range(30):\n",
        "  optimizer.zero_grad()\n",
        "  m = torch.distributions.binomial.Binomial(100, probs=phi)\n",
        "  loss = - m.log_prob(torch.tensor([52]))\n",
        "  loss.backward()\n",
        "  optimizer.step()\n",
        "  print(f\"{i+1} | {phi.item():.4f}\")"
      ],
      "execution_count": null,
      "outputs": []
    }
  ]
}