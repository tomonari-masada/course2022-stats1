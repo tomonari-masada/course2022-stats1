{
  "nbformat": 4,
  "nbformat_minor": 0,
  "metadata": {
    "colab": {
      "provenance": [],
      "authorship_tag": "ABX9TyOQOBJOVEJ0o6mnoP0jMlLc",
      "include_colab_link": true
    },
    "kernelspec": {
      "name": "python3",
      "display_name": "Python 3"
    },
    "language_info": {
      "name": "python"
    }
  },
  "cells": [
    {
      "cell_type": "markdown",
      "metadata": {
        "id": "view-in-github",
        "colab_type": "text"
      },
      "source": [
        "<a href=\"https://colab.research.google.com/github/tomonari-masada/course2022-stats1/blob/main/gamma_distribution_density.ipynb\" target=\"_parent\"><img src=\"https://colab.research.google.com/assets/colab-badge.svg\" alt=\"Open In Colab\"/></a>"
      ]
    },
    {
      "cell_type": "markdown",
      "source": [
        "# ガンマ分布"
      ],
      "metadata": {
        "id": "tHkpW03-ZXTA"
      }
    },
    {
      "cell_type": "code",
      "metadata": {
        "id": "TGGb9ejoPJLD"
      },
      "source": [
        "import numpy as np\n",
        "from numpy.random import default_rng\n",
        "from scipy.stats import gamma\n",
        "import matplotlib.pyplot as plt\n",
        "\n",
        "%config InlineBackend.figure_formats = {'png', 'retina'}"
      ],
      "execution_count": null,
      "outputs": []
    },
    {
      "cell_type": "markdown",
      "source": [
        "## ガンマ分布の確率密度関数"
      ],
      "metadata": {
        "id": "8KwMuJtVZgmt"
      }
    },
    {
      "cell_type": "markdown",
      "source": [
        "* 0.01刻みで[0, 20]の範囲の横軸を準備。"
      ],
      "metadata": {
        "id": "tmbmECsLZlbH"
      }
    },
    {
      "cell_type": "code",
      "metadata": {
        "id": "dT0C6L55PPJM"
      },
      "source": [
        "x = np.arange(2001) * 0.01"
      ],
      "execution_count": null,
      "outputs": []
    },
    {
      "cell_type": "markdown",
      "source": [
        "* scaleはrateの逆数。"
      ],
      "metadata": {
        "id": "sWXrXoUbX2lc"
      }
    },
    {
      "cell_type": "markdown",
      "source": [
        "* shapeパラメータが1のときは指数分布になる。"
      ],
      "metadata": {
        "id": "W8B1Ogs8bUpy"
      }
    },
    {
      "cell_type": "code",
      "source": [
        "plt.figure(figsize=(8, 6))\n",
        "plt.ylim(0, 0.6)\n",
        "for i in np.arange(1, 11):\n",
        "  plt.plot(x, gamma.pdf(x, 1, scale=i));"
      ],
      "metadata": {
        "id": "jKF59tcebEvU"
      },
      "execution_count": null,
      "outputs": []
    },
    {
      "cell_type": "markdown",
      "source": [
        "* shapeパラメータが1より小さいとき、x=0での値は無限大になる。"
      ],
      "metadata": {
        "id": "6iqpGOBeb4J9"
      }
    },
    {
      "cell_type": "code",
      "source": [
        "plt.figure(figsize=(8, 6))\n",
        "plt.ylim(0, 0.6)\n",
        "for i in np.arange(1, 10) * 0.1: # shape=0.1~0.9\n",
        "  plt.plot(x, gamma.pdf(x, i, scale=2));"
      ],
      "metadata": {
        "id": "ycgihzBvb1Ra"
      },
      "execution_count": null,
      "outputs": []
    },
    {
      "cell_type": "markdown",
      "source": [
        "* shapeパラメータが1より大きいとき、x=0での値は0になる。"
      ],
      "metadata": {
        "id": "ff6ZwhB8cgI9"
      }
    },
    {
      "cell_type": "code",
      "metadata": {
        "id": "kV74xXCGPdJy"
      },
      "source": [
        "plt.figure(figsize=(8, 6))\n",
        "plt.ylim(0, 0.6)\n",
        "for i in np.arange(1, 11):\n",
        "  plt.plot(x, gamma.pdf(x, i, scale=2))"
      ],
      "execution_count": null,
      "outputs": []
    },
    {
      "cell_type": "markdown",
      "source": [
        "* scaleパラメータを大きくするほど、密度関数の形は横に広がっていく。"
      ],
      "metadata": {
        "id": "wAlanEeRc15O"
      }
    },
    {
      "cell_type": "code",
      "metadata": {
        "id": "fe2wH1YaQzkh"
      },
      "source": [
        "plt.figure(figsize=(8, 6))\n",
        "plt.ylim(0, 0.6)\n",
        "for i in np.arange(1, 11):\n",
        "  plt.plot(x, gamma.pdf(x, 2, scale=i))"
      ],
      "execution_count": null,
      "outputs": []
    },
    {
      "cell_type": "markdown",
      "source": [
        "## ガンマ分布に従う乱数"
      ],
      "metadata": {
        "id": "dBcL3icRZT9a"
      }
    },
    {
      "cell_type": "code",
      "metadata": {
        "id": "Ch671rXcQ24T"
      },
      "source": [
        "rng = default_rng()\n",
        "vals = rng.gamma(2, scale=1/2, size=10000)\n",
        "step = 0.1\n",
        "bins=np.arange(vals.min(), vals.max()+step, step=step)\n",
        "plt.figure(figsize=(8, 6))\n",
        "plt.hist(vals, bins=bins);"
      ],
      "execution_count": null,
      "outputs": []
    },
    {
      "cell_type": "code",
      "source": [],
      "metadata": {
        "id": "qNTEJxVvYlEB"
      },
      "execution_count": null,
      "outputs": []
    }
  ]
}