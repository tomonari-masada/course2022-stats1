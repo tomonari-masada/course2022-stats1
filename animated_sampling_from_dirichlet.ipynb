{
  "nbformat": 4,
  "nbformat_minor": 0,
  "metadata": {
    "colab": {
      "provenance": [],
      "collapsed_sections": [],
      "authorship_tag": "ABX9TyMi68+0KDw3SumZErf1EXNO",
      "include_colab_link": true
    },
    "kernelspec": {
      "name": "python3",
      "display_name": "Python 3"
    },
    "language_info": {
      "name": "python"
    },
    "gpuClass": "standard"
  },
  "cells": [
    {
      "cell_type": "markdown",
      "metadata": {
        "id": "view-in-github",
        "colab_type": "text"
      },
      "source": [
        "<a href=\"https://colab.research.google.com/github/tomonari-masada/course2022-stats1/blob/main/animated_sampling_from_dirichlet.ipynb\" target=\"_parent\"><img src=\"https://colab.research.google.com/assets/colab-badge.svg\" alt=\"Open In Colab\"/></a>"
      ]
    },
    {
      "cell_type": "code",
      "execution_count": null,
      "metadata": {
        "id": "0-GNiJX-G5T9"
      },
      "outputs": [],
      "source": [
        "import numpy as np\n",
        "import matplotlib.pyplot as plt\n",
        "from matplotlib import animation, rc\n",
        "from IPython.display import HTML\n",
        "\n",
        "np.random.seed(19680801)\n",
        "\n",
        "%config InlineBackend.figure_formats = {'png', 'retina'}"
      ]
    },
    {
      "cell_type": "code",
      "source": [
        "dirichlet_parameters = (.1, .1, .1)\n",
        "\n",
        "num_of_frames = 100\n",
        "\n",
        "fig = plt.figure(figsize = (8, 8))\n",
        "ax = fig.add_subplot(projection='3d')\n",
        "\n",
        "samples = np.random.dirichlet(dirichlet_parameters, (num_of_frames, 1))\n",
        "\n",
        "def update(t):\n",
        "  ax.set_xlim(0, 1)\n",
        "  ax.set_ylim(0, 1)\n",
        "  ax.set_zlim(0, 1)\n",
        "  ax.scatter(xs=samples[t,:,0], ys=samples[t,:,1], zs=samples[t,:,2], color=\"blue\")\n",
        "\n",
        "ax.view_init(elev=20., azim=30)\n",
        "\n",
        "ani = animation.FuncAnimation(fig, update, num_of_frames, interval=100)"
      ],
      "metadata": {
        "id": "jWZwU_tqWHm1"
      },
      "execution_count": null,
      "outputs": []
    },
    {
      "cell_type": "code",
      "source": [
        "rc('animation', html='jshtml')\n",
        "ani"
      ],
      "metadata": {
        "id": "BoyhF7QtVrH1"
      },
      "execution_count": null,
      "outputs": []
    }
  ]
}